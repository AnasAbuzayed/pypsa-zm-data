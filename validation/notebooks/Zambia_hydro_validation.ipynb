{
 "cells": [
  {
   "cell_type": "markdown",
   "metadata": {},
   "source": [
    "# Hydro Generation Validation for Zambia\n",
    "\n",
    "In this notebook, we will focus on the hydro validation of the power plants within the workflow, using data obtained from Zesco. The validation process is divided into two parts: the first part involves validating the hydro energy produced by hydro dams, and the second part involves validating the hydro energy produced from run-of-river sources\n"
   ]
  },
  {
   "cell_type": "markdown",
   "metadata": {},
   "source": [
    "## Preparation"
   ]
  },
  {
   "cell_type": "code",
   "execution_count": null,
   "metadata": {},
   "outputs": [],
   "source": [
    "import logging\n",
    "import os\n",
    "\n",
    "import pypsa\n",
    "import yaml\n",
    "import pandas as pd\n",
    "import geopandas as gpd\n",
    "import numpy as np\n",
    "import scipy as sp\n",
    "import networkx as nx\n",
    "\n",
    "# plotting stuff\n",
    "import matplotlib.pyplot as plt\n",
    "\n",
    "plt.style.use(\"bmh\")\n",
    "import seaborn as sns  ###\n",
    "import cartopy.crs as ccrs\n",
    "\n",
    "sns.set(style=\"darkgrid\")\n",
    "\n",
    "from scipy.sparse import csgraph\n",
    "from itertools import product\n",
    "\n",
    "from shapely.geometry import Point, LineString\n",
    "import shapely, shapely.prepared, shapely.wkt\n",
    "\n",
    "logger = logging.getLogger(__name__)\n",
    "\n",
    "pd.set_option(\"display.max_columns\", None)\n",
    "pd.set_option(\"display.max_colwidth\", 70)\n",
    "\n",
    "# change current directory to parent folder\n",
    "import os\n",
    "import sys\n",
    "\n",
    "\n",
    "\n",
    "# plotting settings\n",
    "max_node_size = 1.0  # maximum size of a node for plotting purposes [used in plots]"
   ]
  },
  {
   "cell_type": "markdown",
   "metadata": {},
   "source": [
    "## Loading the solved network"
   ]
  },
  {
   "cell_type": "code",
   "execution_count": 3,
   "metadata": {},
   "outputs": [
    {
     "name": "stderr",
     "output_type": "stream",
     "text": [
      "INFO:pypsa.io:Imported network elec_s_10_ec_lcopt_Co2L-12H.nc has buses, carriers, generators, global_constraints, lines, links, loads, storage_units, stores\n"
     ]
    }
   ],
   "source": [
    "n=pypsa.Network(\"C:\\\\Users\\\\user\\\\Desktop\\\\pypsa-earth\\\\results\\\\networks\\\\elec_s_10_ec_lcopt_Co2L-12H.nc\")\n",
    "\n"
   ]
  },
  {
   "cell_type": "markdown",
   "metadata": {},
   "source": [
    "## Calculating total hydro energy production by powerplants\n",
    "\n",
    "### Total energy production by dams [TWh]"
   ]
  },
  {
   "cell_type": "code",
   "execution_count": 8,
   "metadata": {},
   "outputs": [
    {
     "data": {
      "text/plain": [
       "7.2123960402408"
      ]
     },
     "execution_count": 8,
     "metadata": {},
     "output_type": "execute_result"
    }
   ],
   "source": [
    "hydroenergy_by_dams = n.storage_units_t.p.mean().sum() / 1000000 * 8760\n",
    "hydroenergy_by_dams"
   ]
  },
  {
   "cell_type": "markdown",
   "metadata": {},
   "source": [
    "### Total energy production by run-of-river [TWh]"
   ]
  },
  {
   "cell_type": "code",
   "execution_count": 15,
   "metadata": {},
   "outputs": [
    {
     "data": {
      "text/plain": [
       "0.7738610148"
      ]
     },
     "execution_count": 15,
     "metadata": {},
     "output_type": "execute_result"
    }
   ],
   "source": [
    "ror_gen_index = n.generators[n.generators.carrier == \"ror\"].index\n",
    "hydroenergy_by_ror = n.generators_t.p[ror_gen_index].mean().sum() / 1000000 * 8760\n",
    "hydroenergy_by_ror\n"
   ]
  },
  {
   "cell_type": "code",
   "execution_count": 11,
   "metadata": {},
   "outputs": [
    {
     "data": {
      "text/plain": [
       "dict_keys(['p_min_pu', 'p_max_pu', 'p_set', 'q_set', 'marginal_cost', 'marginal_cost_quadratic', 'state_of_charge_set', 'efficiency_store', 'efficiency_dispatch', 'standing_loss', 'inflow', 'p', 'p_dispatch', 'p_store', 'q', 'state_of_charge', 'spill', 'mu_upper', 'mu_lower', 'mu_state_of_charge_set', 'mu_energy_balance'])"
      ]
     },
     "execution_count": 11,
     "metadata": {},
     "output_type": "execute_result"
    }
   ],
   "source": [
    "n.storage_units_t.keys()"
   ]
  },
  {
   "cell_type": "markdown",
   "metadata": {},
   "source": [
    "### Total hydropower energy production [TWh]"
   ]
  },
  {
   "cell_type": "code",
   "execution_count": 18,
   "metadata": {},
   "outputs": [],
   "source": [
    "tot_hydroenergy = float(hydroenergy_by_dams) + float(hydroenergy_by_ror)\n"
   ]
  },
  {
   "cell_type": "code",
   "execution_count": 19,
   "metadata": {},
   "outputs": [
    {
     "data": {
      "text/plain": [
       "7.9862570550408005"
      ]
     },
     "execution_count": 19,
     "metadata": {},
     "output_type": "execute_result"
    }
   ],
   "source": [
    "tot_hydroenergy"
   ]
  },
  {
   "cell_type": "markdown",
   "metadata": {},
   "source": [
    "## Validation of the workflow results with respect to ZESCO data"
   ]
  },
  {
   "cell_type": "markdown",
   "metadata": {},
   "source": [
    "### The data obtained from the workflow was compared with the data from zesco"
   ]
  },
  {
   "cell_type": "markdown",
   "metadata": {},
   "source": [
    "| Source | Hydro energy from dams | Hydro energy from ror sources | Total|\n",
    "|--------|----------------|---------------|---------------|\n",
    "|Pypsa Earth | 7.21 TWh | 0.774 TWh | 7.986 TWh|\n",
    "| ZESCO | 9.4063 TWh | 1.0096 TWh | 10.419 TWh|\n"
   ]
  }
 ],
 "metadata": {
  "kernelspec": {
   "display_name": "pypsa-earth",
   "language": "python",
   "name": "python3"
  },
  "language_info": {
   "codemirror_mode": {
    "name": "ipython",
    "version": 3
   },
   "file_extension": ".py",
   "mimetype": "text/x-python",
   "name": "python",
   "nbconvert_exporter": "python",
   "pygments_lexer": "ipython3",
   "version": "3.10.12"
  },
  "orig_nbformat": 4
 },
 "nbformat": 4,
 "nbformat_minor": 2
}
